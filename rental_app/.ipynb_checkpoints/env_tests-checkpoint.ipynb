{
 "cells": [
  {
   "cell_type": "code",
   "execution_count": 26,
   "metadata": {},
   "outputs": [],
   "source": [
    "from typing import List\n",
    "from datetime import datetime, timedelta\n",
    "import secrets\n",
    "\n",
    "from sqlalchemy.orm import Session\n",
    "\n",
    "from sqlalchemy import asc, or_, and_, func, not_\n",
    "from sqlalchemy.sql import text\n",
    "\n",
    "from sql_app import crud, models, schemas\n",
    "from sql_app.database import SessionLocal, engine\n",
    "\n",
    "models.Base.metadata.create_all(bind=engine)\n",
    "\n",
    "db = SessionLocal()\n",
    "\n",
    "date_from = datetime.now()\n",
    "date_to = date_from+timedelta(days=10)\n",
    "try:\n",
    "    available_costumes = db.query(models.CostumeItem).join(models.Reservation).\\\n",
    "        filter(or_(date_to < models.Reservation.pick_up_date, date_from > models.Reservation.return_date))\n",
    "    items = db.query(models.CostumeItem).all()\n",
    "finally:\n",
    "    db.close()\n"
   ]
  },
  {
   "cell_type": "code",
   "execution_count": 27,
   "metadata": {},
   "outputs": [],
   "source": [
    "#costumes = schemas.CostumeItem(**available_costumes.__dict__)\n",
    "for c in available_costumes.all():\n",
    "    print(c.__dict__)"
   ]
  },
  {
   "cell_type": "code",
   "execution_count": null,
   "metadata": {},
   "outputs": [],
   "source": []
  },
  {
   "cell_type": "code",
   "execution_count": null,
   "metadata": {},
   "outputs": [],
   "source": []
  },
  {
   "cell_type": "code",
   "execution_count": null,
   "metadata": {},
   "outputs": [],
   "source": []
  },
  {
   "cell_type": "markdown",
   "metadata": {},
   "source": [
    "# delete all reservations and rentals"
   ]
  },
  {
   "cell_type": "code",
   "execution_count": null,
   "metadata": {},
   "outputs": [],
   "source": [
    "db = SessionLocal()\n",
    "\n",
    "date_from = datetime.now()\n",
    "date_to = date_from+timedelta(days=10)\n",
    "try:\n",
    "    available_costumes = db.query(models.CostumeItem).join(models.Reservation).\\\n",
    "        filter(or_(date_to < models.Reservation.pick_up_date, date_from > models.Reservation.return_date))\n",
    "    items = db.query(models.CostumeItem).all()\n",
    "    #db.query(models.Reservation).delete()\n",
    "    for item in items:\n",
    "        item.reservation_id = None\n",
    "        item.rental_id = None\n",
    "    db.query(models.CostumeRental).delete()\n",
    "    db.query(models.Reservation).delete()\n",
    "    \n",
    "    db.commit()\n",
    "finally:\n",
    "    db.close()"
   ]
  }
 ],
 "metadata": {
  "kernelspec": {
   "display_name": "rental_app_env",
   "language": "python",
   "name": "rental_app_env"
  },
  "language_info": {
   "codemirror_mode": {
    "name": "ipython",
    "version": 3
   },
   "file_extension": ".py",
   "mimetype": "text/x-python",
   "name": "python",
   "nbconvert_exporter": "python",
   "pygments_lexer": "ipython3",
   "version": "3.8.0"
  }
 },
 "nbformat": 4,
 "nbformat_minor": 4
}
