{
 "cells": [
  {
   "cell_type": "code",
   "execution_count": 3,
   "metadata": {},
   "outputs": [],
   "source": [
    "from typing import List\n",
    "from datetime import date, timedelta\n",
    "import secrets\n",
    "\n",
    "from sqlalchemy.orm import Session\n",
    "\n",
    "from sqlalchemy import asc, or_, and_, func, not_\n",
    "from sqlalchemy.sql import text\n",
    "\n",
    "from sql_app import crud, models, schemas\n",
    "from sql_app.database import SessionLocal, engine\n",
    "\n",
    "models.Base.metadata.create_all(bind=engine)\n",
    "\n",
    "db = SessionLocal()\n",
    "\n",
    "date_from = date.today()\n",
    "date_to = date_from+timedelta(days=10)\n",
    "try:\n",
    "    available_costumes = db.query(models.CostumeItem).join(models.Reservation,isouter=True).\\\n",
    "        filter(or_(or_(date_to < models.Reservation.pick_up_date, date_from > models.Reservation.return_date),\\\n",
    "               models.CostumeItem.reservation_id == None))\n",
    "    all_costumes = db.query(models.CostumeItem)\n",
    "    items = db.query(models.CostumeItem).filter_by(reservation_id=None).order_by(models.CostumeItem.id.asc())\n",
    "    \n",
    "finally:\n",
    "    db.close()\n"
   ]
  },
  {
   "cell_type": "code",
   "execution_count": 21,
   "metadata": {},
   "outputs": [
    {
     "name": "stdout",
     "output_type": "stream",
     "text": [
      "[{'id': 1, 'model': 1, 'loc': 1}, {'id': 7, 'model': 7, 'loc': 1}, {'id': 8, 'model': 3, 'loc': 2}, {'id': 9, 'model': 7, 'loc': 2}, {'id': 10, 'model': 7, 'loc': 2}, {'id': 11, 'model': 7, 'loc': 2}, {'id': 12, 'model': 7, 'loc': 2}, {'id': 14, 'model': 3, 'loc': 1}, {'id': 15, 'model': 3, 'loc': 1}, {'id': 16, 'model': 3, 'loc': 1}]\n",
      "10\n"
     ]
    }
   ],
   "source": [
    "db = SessionLocal()\n",
    "user_id=5\n",
    "res_id = 1\n",
    "\n",
    "try:\n",
    "    reservation = db.query(models.Reservation).filter_by(id=res_id, client_id=user_id).first()\n",
    "    print(f'{[{\"id\":item.id, \"model\":item.model_id, \"loc\":item.location_id} for item in reservation.items]}')\n",
    "    print(len(reservation.items))\n",
    "    for item in reservation.items:\n",
    "        item.reservation_id=None\n",
    "    db.commit()\n",
    "finally:\n",
    "    db.close()"
   ]
  },
  {
   "cell_type": "code",
   "execution_count": 20,
   "metadata": {},
   "outputs": [],
   "source": [
    "db = SessionLocal()\n",
    "\n",
    "date_from = datetime.now()\n",
    "date_to = date_from+timedelta(days=10)\n",
    "try:\n",
    "    available_costumes = db.query(models.CostumeItem).\\\n",
    "        filter(models.CostumeItem.rental_id == None)\n",
    "finally:\n",
    "    db.close()"
   ]
  },
  {
   "cell_type": "code",
   "execution_count": 22,
   "metadata": {},
   "outputs": [
    {
     "data": {
      "text/plain": [
       "'SELECT \"Costume_items\".costume_id AS \"Costume_items_costume_id\", \"Costume_items\".model_id AS \"Costume_items_model_id\", \"Costume_items\".location_id AS \"Costume_items_location_id\", \"Costume_items\".rental_id AS \"Costume_items_rental_id\", \"Costume_items\".reservation_id AS \"Costume_items_reservation_id\" \\nFROM \"Costume_items\" \\nWHERE \"Costume_items\".rental_id IS NULL'"
      ]
     },
     "execution_count": 22,
     "metadata": {},
     "output_type": "execute_result"
    }
   ],
   "source": [
    "str(available_costumes)"
   ]
  },
  {
   "cell_type": "code",
   "execution_count": 21,
   "metadata": {},
   "outputs": [
    {
     "data": {
      "text/plain": [
       "[<sql_app.models.CostumeItem at 0x7f0220a66ac0>,\n",
       " <sql_app.models.CostumeItem at 0x7f0220a66d60>,\n",
       " <sql_app.models.CostumeItem at 0x7f0220a66520>,\n",
       " <sql_app.models.CostumeItem at 0x7f0220a66f40>,\n",
       " <sql_app.models.CostumeItem at 0x7f0220a660a0>,\n",
       " <sql_app.models.CostumeItem at 0x7f0220a66bb0>,\n",
       " <sql_app.models.CostumeItem at 0x7f0220a667f0>,\n",
       " <sql_app.models.CostumeItem at 0x7f0220a661f0>]"
      ]
     },
     "execution_count": 21,
     "metadata": {},
     "output_type": "execute_result"
    }
   ],
   "source": [
    "available_costumes.all()"
   ]
  },
  {
   "cell_type": "code",
   "execution_count": 30,
   "metadata": {},
   "outputs": [],
   "source": [
    "costumes= [\n",
    "    {\n",
    "      \"model_id\": 4,\n",
    "      \"quantity\": 2\n",
    "    },\n",
    "    {\n",
    "      \"model_id\": 7,\n",
    "      \"quantity\": 1\n",
    "    },\n",
    "    {\n",
    "      \"model_id\": 1,\n",
    "      \"quantity\": 7\n",
    "    }\n",
    "  ]\n",
    "\n",
    "count = {4:2, 7:1}"
   ]
  },
  {
   "cell_type": "code",
   "execution_count": 33,
   "metadata": {},
   "outputs": [
    {
     "name": "stdout",
     "output_type": "stream",
     "text": [
      "id: 4, quantity:2\n",
      "id: 7, quantity:1\n"
     ]
    }
   ],
   "source": [
    "for id_, quan in zip(count, count.values()):\n",
    "    print(f'id: {id_}, quantity:{quan}')"
   ]
  },
  {
   "cell_type": "code",
   "execution_count": 16,
   "metadata": {},
   "outputs": [],
   "source": [
    "db = SessionLocal()\n",
    "try:\n",
    "    res_db = models.Reservation(id=4,client_id=1, pick_up_location_id=1,date=date.today(), pick_up_date=date.today()+timedelta(days=10),return_date=date.today()+timedelta(days=20), valid=True)\n",
    "    db.add(res_db)\n",
    "    db.commit()\n",
    "finally:\n",
    "    db.close()"
   ]
  },
  {
   "cell_type": "code",
   "execution_count": 22,
   "metadata": {},
   "outputs": [
    {
     "name": "stdout",
     "output_type": "stream",
     "text": [
      "{'_sa_instance_state': <sqlalchemy.orm.state.InstanceState object at 0x7fb82c4879d0>, 'pick_up_location_id': 2, 'valid': False, 'pick_up_date': datetime.datetime(2020, 6, 20, 0, 0), 'id': 2, 'return_date': datetime.datetime(2020, 7, 6, 0, 0), 'client_id': 2, 'date': datetime.datetime(2020, 6, 16, 0, 0)}\n"
     ]
    }
   ],
   "source": [
    "db = SessionLocal()\n",
    "try:\n",
    "    res_db = db.query(models.Reservation).get(2)\n",
    "    print(res_db.__dict__)\n",
    "finally:\n",
    "    db.close()"
   ]
  },
  {
   "cell_type": "code",
   "execution_count": null,
   "metadata": {},
   "outputs": [],
   "source": []
  },
  {
   "cell_type": "markdown",
   "metadata": {},
   "source": [
    "# delete all reservations and rentals"
   ]
  },
  {
   "cell_type": "code",
   "execution_count": 27,
   "metadata": {},
   "outputs": [],
   "source": [
    "db = SessionLocal()\n",
    "\n",
    "date_from = date.today()\n",
    "date_to = date_from+timedelta(days=10)\n",
    "try:\n",
    "    available_costumes = db.query(models.CostumeItem).join(models.Reservation).\\\n",
    "        filter(or_(date_to < models.Reservation.pick_up_date, date_from > models.Reservation.return_date))\n",
    "    items = db.query(models.CostumeItem).all()\n",
    "    #db.query(models.Reservation).delete()\n",
    "    for item in items:\n",
    "        item.reservation_id = None\n",
    "        item.rental_id = None\n",
    "    db.commit() #uncomment it when u really want to deleta all reservations\n",
    "    \n",
    "    db.query(models.CostumeRental).delete()\n",
    "    db.query(models.Reservation).delete()\n",
    "    \n",
    "    db.commit()\n",
    "finally:\n",
    "    db.close()"
   ]
  }
 ],
 "metadata": {
  "kernelspec": {
   "display_name": "rental_app_env",
   "language": "python",
   "name": "rental_app_env"
  },
  "language_info": {
   "codemirror_mode": {
    "name": "ipython",
    "version": 3
   },
   "file_extension": ".py",
   "mimetype": "text/x-python",
   "name": "python",
   "nbconvert_exporter": "python",
   "pygments_lexer": "ipython3",
   "version": "3.8.0"
  }
 },
 "nbformat": 4,
 "nbformat_minor": 4
}
