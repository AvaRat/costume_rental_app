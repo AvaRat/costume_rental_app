{
 "cells": [
  {
   "cell_type": "code",
   "execution_count": 2,
   "metadata": {},
   "outputs": [],
   "source": [
    "from typing import List\n",
    "from datetime import datetime, timedelta\n",
    "import secrets\n",
    "\n",
    "from sqlalchemy.orm import Session\n",
    "\n",
    "from sqlalchemy import asc, or_, and_, func, not_\n",
    "from sqlalchemy.sql import text\n",
    "\n",
    "from sql_app import crud, models, schemas\n",
    "from sql_app.database import SessionLocal, engine\n",
    "\n",
    "models.Base.metadata.create_all(bind=engine)\n",
    "\n",
    "db = SessionLocal()\n",
    "\n",
    "date_from = datetime.now()\n",
    "date_to = date_from+timedelta(days=10)\n",
    "try:\n",
    "    available_costumes = db.query(models.CostumeItem).join(models.Reservation,isouter=True).\\\n",
    "        filter(or_(or_(date_to < models.Reservation.pick_up_date, date_from > models.Reservation.return_date),\\\n",
    "               models.CostumeItem.reservation_id == None))\n",
    "    all_costumes = db.query(models.CostumeItem)\n",
    "    items = db.query(models.CostumeItem).filter_by(reservation_id=None).order_by(models.CostumeItem.id.asc())\n",
    "    \n",
    "finally:\n",
    "    db.close()\n"
   ]
  },
  {
   "cell_type": "code",
   "execution_count": 13,
   "metadata": {},
   "outputs": [
    {
     "name": "stdout",
     "output_type": "stream",
     "text": [
      "SELECT \"Costume_items\".costume_id AS \"Costume_items_costume_id\", \"Costume_items\".model_id AS \"Costume_items_model_id\", \"Costume_items\".location_id AS \"Costume_items_location_id\", \"Costume_items\".rental_id AS \"Costume_items_rental_id\", \"Costume_items\".reservation_id AS \"Costume_items_reservation_id\" \n",
      "FROM \"Costume_items\" \n",
      "WHERE \"Costume_items\".reservation_id IS NULL ORDER BY \"Costume_items\".costume_id ASC\n"
     ]
    }
   ],
   "source": [
    "[c.__dict__ for c in items.all()]\n",
    "print(items)"
   ]
  },
  {
   "cell_type": "code",
   "execution_count": null,
   "metadata": {},
   "outputs": [],
   "source": []
  },
  {
   "cell_type": "code",
   "execution_count": null,
   "metadata": {},
   "outputs": [],
   "source": []
  },
  {
   "cell_type": "code",
   "execution_count": 11,
   "metadata": {},
   "outputs": [
    {
     "name": "stdout",
     "output_type": "stream",
     "text": [
      "{'_sa_instance_state': <sqlalchemy.orm.state.InstanceState object at 0x7f0220ab1ca0>, 'reservation_id': None, 'location_id': 2, 'id': 4, 'rental_id': None, 'model_id': 4}\n",
      "{'_sa_instance_state': <sqlalchemy.orm.state.InstanceState object at 0x7f02397443d0>, 'reservation_id': None, 'location_id': 2, 'id': 5, 'rental_id': None, 'model_id': 4}\n",
      "{'_sa_instance_state': <sqlalchemy.orm.state.InstanceState object at 0x7f0239744250>, 'reservation_id': None, 'location_id': 1, 'id': 7, 'rental_id': None, 'model_id': 7}\n",
      "{'_sa_instance_state': <sqlalchemy.orm.state.InstanceState object at 0x7f0239744880>, 'reservation_id': 1, 'location_id': 1, 'id': 2, 'rental_id': None, 'model_id': 2}\n",
      "{'_sa_instance_state': <sqlalchemy.orm.state.InstanceState object at 0x7f02397440d0>, 'reservation_id': 1, 'location_id': 1, 'id': 6, 'rental_id': None, 'model_id': 6}\n",
      "{'_sa_instance_state': <sqlalchemy.orm.state.InstanceState object at 0x7f02208d35b0>, 'reservation_id': 2, 'location_id': 1, 'id': 1, 'rental_id': None, 'model_id': 1}\n",
      "{'_sa_instance_state': <sqlalchemy.orm.state.InstanceState object at 0x7f02208d3ac0>, 'reservation_id': 2, 'location_id': 1, 'id': 3, 'rental_id': None, 'model_id': 4}\n",
      "{'_sa_instance_state': <sqlalchemy.orm.state.InstanceState object at 0x7f02208d3a30>, 'reservation_id': 2, 'location_id': 2, 'id': 8, 'rental_id': None, 'model_id': 3}\n"
     ]
    }
   ],
   "source": [
    "#costumes = schemas.CostumeItem(**available_costumes.__dict__)\n",
    "for c in available_costumes.all():\n",
    "    print(c.__dict__)"
   ]
  },
  {
   "cell_type": "code",
   "execution_count": 4,
   "metadata": {},
   "outputs": [
    {
     "name": "stdout",
     "output_type": "stream",
     "text": [
      "{'_sa_instance_state': <sqlalchemy.orm.state.InstanceState object at 0x7f0220ab1a00>, 'reservation_id': None, 'location_id': 2, 'id': 4, 'rental_id': None, 'model_id': 4}\n",
      "{'_sa_instance_state': <sqlalchemy.orm.state.InstanceState object at 0x7f0220ab1880>, 'reservation_id': None, 'location_id': 2, 'id': 5, 'rental_id': None, 'model_id': 4}\n",
      "{'_sa_instance_state': <sqlalchemy.orm.state.InstanceState object at 0x7f0220ab1970>, 'reservation_id': None, 'location_id': 1, 'id': 6, 'rental_id': None, 'model_id': 6}\n",
      "{'_sa_instance_state': <sqlalchemy.orm.state.InstanceState object at 0x7f0220ab1670>, 'reservation_id': None, 'location_id': 2, 'id': 8, 'rental_id': None, 'model_id': 3}\n",
      "{'_sa_instance_state': <sqlalchemy.orm.state.InstanceState object at 0x7f0220ab1700>, 'reservation_id': 11, 'location_id': 1, 'id': 2, 'rental_id': None, 'model_id': 2}\n",
      "{'_sa_instance_state': <sqlalchemy.orm.state.InstanceState object at 0x7f0220ab1760>, 'reservation_id': 11, 'location_id': 1, 'id': 3, 'rental_id': None, 'model_id': 4}\n",
      "{'_sa_instance_state': <sqlalchemy.orm.state.InstanceState object at 0x7f0220ab17c0>, 'reservation_id': 12, 'location_id': 1, 'id': 7, 'rental_id': None, 'model_id': 7}\n",
      "{'_sa_instance_state': <sqlalchemy.orm.state.InstanceState object at 0x7f0220ab1610>, 'reservation_id': 15, 'location_id': 1, 'id': 1, 'rental_id': None, 'model_id': 1}\n"
     ]
    }
   ],
   "source": [
    "for c in all_costumes.all():\n",
    "    print(c.__dict__)"
   ]
  },
  {
   "cell_type": "code",
   "execution_count": 5,
   "metadata": {},
   "outputs": [
    {
     "data": {
      "text/plain": [
       "8"
      ]
     },
     "execution_count": 5,
     "metadata": {},
     "output_type": "execute_result"
    }
   ],
   "source": [
    "len(available_costumes.all())"
   ]
  },
  {
   "cell_type": "code",
   "execution_count": 20,
   "metadata": {},
   "outputs": [],
   "source": [
    "db = SessionLocal()\n",
    "\n",
    "date_from = datetime.now()\n",
    "date_to = date_from+timedelta(days=10)\n",
    "try:\n",
    "    available_costumes = db.query(models.CostumeItem).\\\n",
    "        filter(models.CostumeItem.rental_id == None)\n",
    "finally:\n",
    "    db.close()"
   ]
  },
  {
   "cell_type": "code",
   "execution_count": 22,
   "metadata": {},
   "outputs": [
    {
     "data": {
      "text/plain": [
       "'SELECT \"Costume_items\".costume_id AS \"Costume_items_costume_id\", \"Costume_items\".model_id AS \"Costume_items_model_id\", \"Costume_items\".location_id AS \"Costume_items_location_id\", \"Costume_items\".rental_id AS \"Costume_items_rental_id\", \"Costume_items\".reservation_id AS \"Costume_items_reservation_id\" \\nFROM \"Costume_items\" \\nWHERE \"Costume_items\".rental_id IS NULL'"
      ]
     },
     "execution_count": 22,
     "metadata": {},
     "output_type": "execute_result"
    }
   ],
   "source": [
    "str(available_costumes)"
   ]
  },
  {
   "cell_type": "code",
   "execution_count": 21,
   "metadata": {},
   "outputs": [
    {
     "data": {
      "text/plain": [
       "[<sql_app.models.CostumeItem at 0x7f0220a66ac0>,\n",
       " <sql_app.models.CostumeItem at 0x7f0220a66d60>,\n",
       " <sql_app.models.CostumeItem at 0x7f0220a66520>,\n",
       " <sql_app.models.CostumeItem at 0x7f0220a66f40>,\n",
       " <sql_app.models.CostumeItem at 0x7f0220a660a0>,\n",
       " <sql_app.models.CostumeItem at 0x7f0220a66bb0>,\n",
       " <sql_app.models.CostumeItem at 0x7f0220a667f0>,\n",
       " <sql_app.models.CostumeItem at 0x7f0220a661f0>]"
      ]
     },
     "execution_count": 21,
     "metadata": {},
     "output_type": "execute_result"
    }
   ],
   "source": [
    "available_costumes.all()"
   ]
  },
  {
   "cell_type": "code",
   "execution_count": 30,
   "metadata": {},
   "outputs": [],
   "source": [
    "costumes= [\n",
    "    {\n",
    "      \"model_id\": 4,\n",
    "      \"quantity\": 2\n",
    "    },\n",
    "    {\n",
    "      \"model_id\": 7,\n",
    "      \"quantity\": 1\n",
    "    },\n",
    "    {\n",
    "      \"model_id\": 1,\n",
    "      \"quantity\": 7\n",
    "    }\n",
    "  ]\n",
    "\n",
    "count = {4:2, 7:1}"
   ]
  },
  {
   "cell_type": "code",
   "execution_count": 33,
   "metadata": {},
   "outputs": [
    {
     "name": "stdout",
     "output_type": "stream",
     "text": [
      "id: 4, quantity:2\n",
      "id: 7, quantity:1\n"
     ]
    }
   ],
   "source": [
    "for id_, quan in zip(count, count.values()):\n",
    "    print(f'id: {id_}, quantity:{quan}')"
   ]
  },
  {
   "cell_type": "code",
   "execution_count": 22,
   "metadata": {},
   "outputs": [
    {
     "data": {
      "text/plain": [
       "[{'model_id': 4, 'quantity': 2},\n",
       " {'model_id': 7, 'quantity': 1},\n",
       " {'model_id': 1, 'quantity': 7}]"
      ]
     },
     "execution_count": 22,
     "metadata": {},
     "output_type": "execute_result"
    }
   ],
   "source": []
  },
  {
   "cell_type": "markdown",
   "metadata": {},
   "source": [
    "# delete all reservations and rentals"
   ]
  },
  {
   "cell_type": "code",
   "execution_count": 5,
   "metadata": {},
   "outputs": [],
   "source": [
    "db = SessionLocal()\n",
    "\n",
    "date_from = datetime.now()\n",
    "date_to = date_from+timedelta(days=10)\n",
    "try:\n",
    "    available_costumes = db.query(models.CostumeItem).join(models.Reservation).\\\n",
    "        filter(or_(date_to < models.Reservation.pick_up_date, date_from > models.Reservation.return_date))\n",
    "    items = db.query(models.CostumeItem).all()\n",
    "    #db.query(models.Reservation).delete()\n",
    "    for item in items:\n",
    "        item.reservation_id = None\n",
    "        item.rental_id = None\n",
    "    db.commit() #uncomment it when u really want to deleta all reservations\n",
    "    \n",
    "    db.query(models.CostumeRental).delete()\n",
    "    db.query(models.Reservation).delete()\n",
    "    \n",
    "    db.commit()\n",
    "finally:\n",
    "    db.close()"
   ]
  }
 ],
 "metadata": {
  "kernelspec": {
   "display_name": "rental_app_env",
   "language": "python",
   "name": "rental_app_env"
  },
  "language_info": {
   "codemirror_mode": {
    "name": "ipython",
    "version": 3
   },
   "file_extension": ".py",
   "mimetype": "text/x-python",
   "name": "python",
   "nbconvert_exporter": "python",
   "pygments_lexer": "ipython3",
   "version": "3.8.0"
  }
 },
 "nbformat": 4,
 "nbformat_minor": 4
}
