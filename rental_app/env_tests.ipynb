{
 "cells": [
  {
   "cell_type": "code",
   "execution_count": 2,
   "metadata": {},
   "outputs": [],
   "source": [
    "from typing import List\n",
    "from datetime import datetime, timedelta\n",
    "import secrets\n",
    "\n",
    "from sqlalchemy.orm import Session\n",
    "\n",
    "from sqlalchemy import asc, or_, and_, func, not_\n",
    "from sqlalchemy.sql import text\n",
    "\n",
    "from sql_app import crud, models, schemas\n",
    "from sql_app.database import SessionLocal, engine\n",
    "\n",
    "models.Base.metadata.create_all(bind=engine)\n",
    "\n",
    "db = SessionLocal()\n",
    "\n",
    "date_from = datetime.now()\n",
    "date_to = date_from+timedelta(days=10)\n",
    "try:\n",
    "    available_costumes = db.query(models.CostumeItem).join(models.Reservation,isouter=True).\\\n",
    "        filter(or_(or_(date_to < models.Reservation.pick_up_date, date_from > models.Reservation.return_date),\\\n",
    "               models.CostumeItem.reservation_id == None))\n",
    "    all_costumes = db.query(models.CostumeItem)\n",
    "    \n",
    "finally:\n",
    "    db.close()\n"
   ]
  },
  {
   "cell_type": "code",
   "execution_count": 3,
   "metadata": {},
   "outputs": [
    {
     "name": "stdout",
     "output_type": "stream",
     "text": [
      "{'_sa_instance_state': <sqlalchemy.orm.state.InstanceState object at 0x7f0220ab15b0>, 'reservation_id': 11, 'location_id': 1, 'id': 3, 'rental_id': None, 'model_id': 4}\n",
      "{'_sa_instance_state': <sqlalchemy.orm.state.InstanceState object at 0x7f0220ab17f0>, 'reservation_id': 11, 'location_id': 1, 'id': 2, 'rental_id': None, 'model_id': 2}\n",
      "{'_sa_instance_state': <sqlalchemy.orm.state.InstanceState object at 0x7f0220ab1820>, 'reservation_id': 12, 'location_id': 1, 'id': 7, 'rental_id': None, 'model_id': 7}\n",
      "{'_sa_instance_state': <sqlalchemy.orm.state.InstanceState object at 0x7f0220ab1880>, 'reservation_id': 15, 'location_id': 1, 'id': 1, 'rental_id': None, 'model_id': 1}\n",
      "{'_sa_instance_state': <sqlalchemy.orm.state.InstanceState object at 0x7f0220ab18e0>, 'reservation_id': None, 'location_id': 2, 'id': 8, 'rental_id': None, 'model_id': 3}\n",
      "{'_sa_instance_state': <sqlalchemy.orm.state.InstanceState object at 0x7f0220ab1940>, 'reservation_id': None, 'location_id': 1, 'id': 6, 'rental_id': None, 'model_id': 6}\n",
      "{'_sa_instance_state': <sqlalchemy.orm.state.InstanceState object at 0x7f0220ab19a0>, 'reservation_id': None, 'location_id': 2, 'id': 5, 'rental_id': None, 'model_id': 4}\n",
      "{'_sa_instance_state': <sqlalchemy.orm.state.InstanceState object at 0x7f0220ab1a00>, 'reservation_id': None, 'location_id': 2, 'id': 4, 'rental_id': None, 'model_id': 4}\n"
     ]
    }
   ],
   "source": [
    "#costumes = schemas.CostumeItem(**available_costumes.__dict__)\n",
    "for c in available_costumes.all():\n",
    "    print(c.__dict__)"
   ]
  },
  {
   "cell_type": "code",
   "execution_count": 4,
   "metadata": {},
   "outputs": [
    {
     "name": "stdout",
     "output_type": "stream",
     "text": [
      "{'_sa_instance_state': <sqlalchemy.orm.state.InstanceState object at 0x7f0220ab1a00>, 'reservation_id': None, 'location_id': 2, 'id': 4, 'rental_id': None, 'model_id': 4}\n",
      "{'_sa_instance_state': <sqlalchemy.orm.state.InstanceState object at 0x7f0220ab1880>, 'reservation_id': None, 'location_id': 2, 'id': 5, 'rental_id': None, 'model_id': 4}\n",
      "{'_sa_instance_state': <sqlalchemy.orm.state.InstanceState object at 0x7f0220ab1970>, 'reservation_id': None, 'location_id': 1, 'id': 6, 'rental_id': None, 'model_id': 6}\n",
      "{'_sa_instance_state': <sqlalchemy.orm.state.InstanceState object at 0x7f0220ab1670>, 'reservation_id': None, 'location_id': 2, 'id': 8, 'rental_id': None, 'model_id': 3}\n",
      "{'_sa_instance_state': <sqlalchemy.orm.state.InstanceState object at 0x7f0220ab1700>, 'reservation_id': 11, 'location_id': 1, 'id': 2, 'rental_id': None, 'model_id': 2}\n",
      "{'_sa_instance_state': <sqlalchemy.orm.state.InstanceState object at 0x7f0220ab1760>, 'reservation_id': 11, 'location_id': 1, 'id': 3, 'rental_id': None, 'model_id': 4}\n",
      "{'_sa_instance_state': <sqlalchemy.orm.state.InstanceState object at 0x7f0220ab17c0>, 'reservation_id': 12, 'location_id': 1, 'id': 7, 'rental_id': None, 'model_id': 7}\n",
      "{'_sa_instance_state': <sqlalchemy.orm.state.InstanceState object at 0x7f0220ab1610>, 'reservation_id': 15, 'location_id': 1, 'id': 1, 'rental_id': None, 'model_id': 1}\n"
     ]
    }
   ],
   "source": [
    "for c in all_costumes.all():\n",
    "    print(c.__dict__)"
   ]
  },
  {
   "cell_type": "code",
   "execution_count": 5,
   "metadata": {},
   "outputs": [
    {
     "data": {
      "text/plain": [
       "8"
      ]
     },
     "execution_count": 5,
     "metadata": {},
     "output_type": "execute_result"
    }
   ],
   "source": [
    "len(available_costumes.all())"
   ]
  },
  {
   "cell_type": "code",
   "execution_count": null,
   "metadata": {},
   "outputs": [],
   "source": []
  },
  {
   "cell_type": "code",
   "execution_count": null,
   "metadata": {},
   "outputs": [],
   "source": []
  },
  {
   "cell_type": "markdown",
   "metadata": {},
   "source": [
    "# delete all reservations and rentals"
   ]
  },
  {
   "cell_type": "code",
   "execution_count": 9,
   "metadata": {},
   "outputs": [],
   "source": [
    "db = SessionLocal()\n",
    "\n",
    "date_from = datetime.now()\n",
    "date_to = date_from+timedelta(days=10)\n",
    "try:\n",
    "    available_costumes = db.query(models.CostumeItem).join(models.Reservation).\\\n",
    "        filter(or_(date_to < models.Reservation.pick_up_date, date_from > models.Reservation.return_date))\n",
    "    items = db.query(models.CostumeItem).all()\n",
    "    #db.query(models.Reservation).delete()\n",
    "    for item in items:\n",
    "        item.reservation_id = None\n",
    "        item.rental_id = None\n",
    "    db.commit()\n",
    "    \n",
    "    db.query(models.CostumeRental).delete()\n",
    "    db.query(models.Reservation).delete()\n",
    "    \n",
    "    db.commit()\n",
    "finally:\n",
    "    db.close()"
   ]
  }
 ],
 "metadata": {
  "kernelspec": {
   "display_name": "rental_app_env",
   "language": "python",
   "name": "rental_app_env"
  },
  "language_info": {
   "codemirror_mode": {
    "name": "ipython",
    "version": 3
   },
   "file_extension": ".py",
   "mimetype": "text/x-python",
   "name": "python",
   "nbconvert_exporter": "python",
   "pygments_lexer": "ipython3",
   "version": "3.8.0"
  }
 },
 "nbformat": 4,
 "nbformat_minor": 4
}
